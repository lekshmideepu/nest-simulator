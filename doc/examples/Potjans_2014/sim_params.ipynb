{
  "cells": [
    {
      "cell_type": "code",
      "execution_count": null,
      "metadata": {
        "collapsed": false
      },
      "outputs": [],
      "source": [
        "%matplotlib inline"
      ]
    },
    {
      "cell_type": "markdown",
      "metadata": {},
      "source": [
        "\nMicrocircuit simulation parameters\n----------------------------------\n\nSimulation parameters for the microcircuit.\n\nHendrik Rothe, Hannah Bos, Sacha van Albada; May 2016\n\n"
      ]
    },
    {
      "cell_type": "code",
      "execution_count": null,
      "metadata": {
        "collapsed": false
      },
      "outputs": [],
      "source": [
        "import os\nsim_dict = {\n    # Simulation time (in ms).\n    't_sim': 1000.0,\n    # Resolution of the simulation (in ms).\n    'sim_resolution': 0.1,\n    # Path to save the output data.\n    'data_path': os.path.join(os.getcwd(), 'data/'),\n    # Masterseed for NEST and NumPy.\n    'master_seed': 55,\n    # Number of threads per MPI process.\n    'local_num_threads': 1,\n    # Recording interval of the membrane potential (in ms).\n    'rec_V_int': 1.0,\n    # If True, data will be overwritten,\n    # If False, a NESTError is raised if the files already exist.\n    'overwrite_files': True,\n    # Print the time progress, this should only be used when the simulation\n    # is run on a local machine.\n    'print_time': True\n    }"
      ]
    }
  ],
  "metadata": {
    "kernelspec": {
      "display_name": "Python 3",
      "language": "python",
      "name": "python3"
    },
    "language_info": {
      "codemirror_mode": {
        "name": "ipython",
        "version": 3
      },
      "file_extension": ".py",
      "mimetype": "text/x-python",
      "name": "python",
      "nbconvert_exporter": "python",
      "pygments_lexer": "ipython3",
      "version": "3.6.7"
    }
  },
  "nbformat": 4,
  "nbformat_minor": 0
}