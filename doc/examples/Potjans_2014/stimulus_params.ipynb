{
  "cells": [
    {
      "cell_type": "code",
      "execution_count": null,
      "metadata": {
        "collapsed": false
      },
      "outputs": [],
      "source": [
        "%matplotlib inline"
      ]
    },
    {
      "cell_type": "markdown",
      "metadata": {},
      "source": [
        "\nMicrocircuit stimulus parameters\n--------------------------------\n\nStimulus parameters for the microcircuit.\n\nHendrik Rothe, Hannah Bos, Sacha van Albada; May 2016\n\n"
      ]
    },
    {
      "cell_type": "code",
      "execution_count": null,
      "metadata": {
        "collapsed": false
      },
      "outputs": [],
      "source": [
        "import numpy as np\nfrom network_params import net_dict\n\nstim_dict = {\n    # Turn thalamic input on or off (True or False).\n    'thalamic_input': False,\n    # Turn DC input on or off (True or False).\n    'dc_input': False,\n    # Number of thalamic neurons.\n    'n_thal': 902,\n    # Mean amplitude of the thalamic postsynaptic potential (in mV).\n    'PSP_th': 0.15,\n    # Standard deviation of the postsynaptic potential (in relative units).\n    'PSP_sd': 0.1,\n    # Start of the thalamic input (in ms).\n    'th_start': 700.0,\n    # Duration of the thalamic input (in ms).\n    'th_duration': 10.0,\n    # Rate of the thalamic input (in Hz).\n    'th_rate': 120.0,\n    # Start of the DC generator (in ms).\n    'dc_start': 0.0,\n    # Duration of the DC generator (in ms).\n    'dc_dur': 1000.0,\n    # Connection probabilities of the thalamus to the different populations.\n    # Order as in 'populations' in 'network_params.py'\n    'conn_probs_th':\n        np.array([0.0, 0.0, 0.0983, 0.0619, 0.0, 0.0, 0.0512, 0.0196]),\n    # Mean delay of the thalamic input (in ms).\n    'delay_th':\n        np.asarray([1.5 for i in list(range(len(net_dict['populations'])))]),\n    # Standard deviation of the thalamic delay (in ms).\n    'delay_th_sd':\n        np.asarray([0.75 for i in list(range(len(net_dict['populations'])))]),\n    # Amplitude of the DC generator (in pA).\n    'dc_amp': np.ones(len(net_dict['populations'])) * 0.3,\n    }"
      ]
    }
  ],
  "metadata": {
    "kernelspec": {
      "display_name": "Python 3",
      "language": "python",
      "name": "python3"
    },
    "language_info": {
      "codemirror_mode": {
        "name": "ipython",
        "version": 3
      },
      "file_extension": ".py",
      "mimetype": "text/x-python",
      "name": "python",
      "nbconvert_exporter": "python",
      "pygments_lexer": "ipython3",
      "version": "3.6.7"
    }
  },
  "nbformat": 4,
  "nbformat_minor": 0
}